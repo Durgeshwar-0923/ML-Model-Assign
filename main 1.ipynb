{
 "cells": [
  {
   "cell_type": "code",
   "execution_count": 84,
   "id": "b1b44211",
   "metadata": {},
   "outputs": [],
   "source": [
    "import os\n",
    "import kagglehub\n",
    "import pandas as pd\n",
    "import joblib\n",
    "\n",
    "from sklearn.preprocessing import PowerTransformer, RobustScaler, StandardScaler\n",
    "from sklearn.model_selection import train_test_split, GridSearchCV\n",
    "from sklearn.feature_selection import RFE\n",
    "from sklearn.linear_model import LogisticRegression\n",
    "from sklearn.tree import DecisionTreeClassifier\n",
    "from sklearn.ensemble import RandomForestClassifier, GradientBoostingClassifier\n",
    "from sklearn.neighbors import KNeighborsClassifier\n",
    "from sklearn.svm import SVC\n",
    "\n",
    "from imblearn.over_sampling import SMOTE"
   ]
  },
  {
   "cell_type": "code",
   "execution_count": 85,
   "id": "966b2f63",
   "metadata": {},
   "outputs": [],
   "source": [
    "import mlflow\n",
    "mlflow.set_tracking_uri(\"http://localhost:8080\")\n"
   ]
  },
  {
   "cell_type": "code",
   "execution_count": 86,
   "id": "a29dcae6",
   "metadata": {},
   "outputs": [],
   "source": [
    "\n",
    "# Save dir\n",
    "import os\n",
    "SAVEDIR = os.getenv('ARTIFACT_DIR', '.') + '/saved_models'\n",
    "os.makedirs(SAVEDIR, exist_ok=True)\n",
    "\n",
    "def load_data():\n",
    "    path = kagglehub.dataset_download(\"itsmesunil/bank-loan-modelling\")\n",
    "    df = pd.read_excel(\n",
    "        os.path.join(path, \"Bank_Personal_Loan_Modelling.xlsx\"),\n",
    "        sheet_name='Data'\n",
    "    )\n",
    "    # DROP via keyword axis=\n",
    "    return df.drop(['ID', 'ZIP Code'], axis=1)\n"
   ]
  },
  {
   "cell_type": "code",
   "execution_count": 87,
   "id": "12f970bd",
   "metadata": {},
   "outputs": [],
   "source": [
    "\n",
    "def split_data(df):\n",
    "    X = df.drop('Personal Loan', axis=1)\n",
    "    y = df['Personal Loan']\n",
    "    X0, X_test, y0, y_test = train_test_split(\n",
    "        X, y, test_size=0.3, stratify=y, random_state=42\n",
    "    )\n",
    "    X_train, X_val, y_train, y_val = train_test_split(\n",
    "        X0, y0, test_size=0.2, stratify=y0, random_state=42\n",
    "    )\n",
    "    return X_train, X_val, X_test, y_train, y_val, y_test\n"
   ]
  },
  {
   "cell_type": "code",
   "execution_count": 88,
   "id": "98a6e94d",
   "metadata": {},
   "outputs": [],
   "source": [
    "\n",
    "def preprocess_fit(X_train, X_val, X_test):\n",
    "    rb = ['CCAvg','Mortgage']\n",
    "    st = ['Income','Experience','Age']\n",
    "    pt = PowerTransformer('yeo-johnson')\n",
    "    rs = RobustScaler()\n",
    "    ss = StandardScaler()\n",
    "\n",
    "    # fit & transform train\n",
    "    X_train[rb] = rs.fit_transform(pt.fit_transform(X_train[rb]))\n",
    "    X_train[st] = ss.fit_transform(X_train[st])\n",
    "\n",
    "    # transform val/test\n",
    "    for X in (X_val, X_test):\n",
    "        X[rb] = rs.transform(pt.transform(X[rb]))\n",
    "        X[st] = ss.transform(X[st])\n",
    "\n",
    "    # save transformers\n",
    "    joblib.dump(pt, os.path.join(SAVEDIR, 'pt.pkl'))\n",
    "    joblib.dump(rs, os.path.join(SAVEDIR, 'rs.pkl'))\n",
    "    joblib.dump(ss, os.path.join(SAVEDIR, 'ss.pkl'))\n",
    "\n",
    "    return X_train, X_val, X_test\n"
   ]
  },
  {
   "cell_type": "code",
   "execution_count": 89,
   "id": "29152002",
   "metadata": {},
   "outputs": [],
   "source": [
    "\n",
    "def feature_select_fit(X_train, y_train, X_val, X_test):\n",
    "    selector = RFE(LogisticRegression(max_iter=1000), n_features_to_select=8)\n",
    "    Xtr = selector.fit_transform(X_train, y_train)\n",
    "    Xv  = selector.transform(X_val)\n",
    "    Xt  = selector.transform(X_test)\n",
    "    joblib.dump(selector, os.path.join(SAVEDIR, 'selector.pkl'))\n",
    "    return Xtr, Xv, Xt\n"
   ]
  },
  {
   "cell_type": "code",
   "execution_count": 90,
   "id": "a7206763",
   "metadata": {},
   "outputs": [],
   "source": [
    "\n",
    "def balance(X, y):\n",
    "    sm = SMOTE(random_state=42)\n",
    "    return sm.fit_resample(X, y)\n"
   ]
  },
  {
   "cell_type": "code",
   "execution_count": 91,
   "id": "afa342c9",
   "metadata": {},
   "outputs": [],
   "source": [
    "from sklearn.metrics import accuracy_score, precision_score, recall_score, f1_score\n",
    "from mlflow.tracking import MlflowClient\n",
    "\n",
    "def tune_and_save(X, y, X_val, y_val):\n",
    "    mlflow.set_experiment(\"Minfy_ML_FLOW\")\n",
    "\n",
    "    best_f1 = 0\n",
    "    best_model_name = None\n",
    "    best_model_path = None\n",
    "\n",
    "    grids = {\n",
    "        'LogisticRegression': {\n",
    "            'model': LogisticRegression(max_iter=1000),\n",
    "            'params': {'C':[0.01,0.1,1,10], 'penalty':['l1','l2'], 'solver':['liblinear']}\n",
    "        },\n",
    "        'DecisionTree': {\n",
    "            'model': DecisionTreeClassifier(),\n",
    "            'params': {'max_depth':[3,5,7,None], 'min_samples_split':[2,5,10], 'min_samples_leaf':[1,2,4]}\n",
    "        },\n",
    "        'RandomForest': {\n",
    "            'model': RandomForestClassifier(random_state=42),\n",
    "            'params': {'n_estimators':[50,100], 'max_depth':[5,10,None]}\n",
    "        },\n",
    "        'GradientBoosting': {\n",
    "            'model': GradientBoostingClassifier(random_state=42),\n",
    "            'params': {'n_estimators':[50,100], 'learning_rate':[0.01,0.1]}\n",
    "        },\n",
    "        'KNN': {\n",
    "            'model': KNeighborsClassifier(),\n",
    "            'params': {'n_neighbors':[3,5,7]}\n",
    "        },\n",
    "        'SVM': {\n",
    "            'model': SVC(probability=True, random_state=42),\n",
    "            'params': {'C':[0.1,1,10], 'kernel':['linear','rbf']}\n",
    "        }\n",
    "    }\n",
    "\n",
    "    for name, cfg in grids.items():\n",
    "        with mlflow.start_run(run_name=name, nested=True) as run:\n",
    "            mlflow.sklearn.autolog()\n",
    "\n",
    "            gs = GridSearchCV(cfg['model'], cfg['params'], scoring='f1', cv=5, n_jobs=-1)\n",
    "            gs.fit(X, y)\n",
    "            best_model = gs.best_estimator_\n",
    "\n",
    "            # Predict on validation set\n",
    "            preds = best_model.predict(X_val)\n",
    "            acc = accuracy_score(y_val, preds)\n",
    "            prec = precision_score(y_val, preds)\n",
    "            rec = recall_score(y_val, preds)\n",
    "            f1 = f1_score(y_val, preds)\n",
    "\n",
    "            mlflow.log_metrics({\n",
    "                \"val_accuracy\": acc,\n",
    "                \"val_precision\": prec,\n",
    "                \"val_recall\": rec,\n",
    "                \"val_f1\": f1\n",
    "            })\n",
    "\n",
    "            print(f\"{name} tuned → {gs.best_params_}\")\n",
    "            print(f\"→ Accuracy: {acc:.3f}, Precision: {prec:.3f}, Recall: {rec:.3f}, F1: {f1:.3f}\")\n",
    "\n",
    "            # Save locally and log model\n",
    "            model_path = os.path.join(SAVEDIR, f\"{name}_model.pkl\")\n",
    "            joblib.dump(best_model, model_path)\n",
    "\n",
    "            mlflow.sklearn.log_model(best_model, artifact_path=\"model\")\n",
    "\n",
    "            # Track best model\n",
    "            if f1 > best_f1:\n",
    "                best_f1 = f1\n",
    "                best_model_name = name\n",
    "                best_model_path = f\"runs:/{run.info.run_id}/model\"\n",
    "\n",
    "    # Register the best model in registry\n",
    "    if best_model_name and best_model_path:\n",
    "        print(f\"\\n🏆 Registering best model: {best_model_name} with F1 = {best_f1:.3f}\")\n",
    "        result = mlflow.register_model(\n",
    "            model_uri=best_model_path,\n",
    "            name=\"BankLoanBestModel\"\n",
    "        )\n",
    "        print(f\"✅ Registered model: {result.name}, version: {result.version}\")\n"
   ]
  },
  {
   "cell_type": "code",
   "execution_count": 92,
   "id": "b159f02d",
   "metadata": {},
   "outputs": [],
   "source": [
    "def main():\n",
    "    mlflow.set_experiment(\"Minfy_ML_FLOW\")\n",
    "\n",
    "    with mlflow.start_run(run_name=\"Preprocessing and Tuning\"):\n",
    "        df = load_data()\n",
    "        Xtr, Xv, Xt, ytr, yv, yt = split_data(df)\n",
    "        Xtr, Xv, Xt = preprocess_fit(Xtr, Xv, Xt)\n",
    "        Xtf, Xvf, Xsf = feature_select_fit(Xtr, ytr, Xv, Xt)\n",
    "\n",
    "        # Log preprocessing artifacts\n",
    "        for file in ['pt.pkl', 'rs.pkl', 'ss.pkl', 'selector.pkl']:\n",
    "            mlflow.log_artifact(os.path.join(SAVEDIR, file))\n",
    "\n",
    "        Xb, yb = balance(Xtf, ytr)\n",
    "        tune_and_save(Xb, yb, Xvf, yv)\n"
   ]
  },
  {
   "cell_type": "code",
   "execution_count": 93,
   "id": "0266f74d",
   "metadata": {},
   "outputs": [
    {
     "name": "stderr",
     "output_type": "stream",
     "text": [
      "2025/07/01 16:36:09 INFO mlflow.tracking.fluent: Experiment with name 'Minfy_ML_FLOW' does not exist. Creating a new experiment.\n",
      "2025/07/01 16:36:28 WARNING mlflow.sklearn: Failed to infer model signature: the trained model does not have a `predict` or `transform` function, which is required in order to infer the signature\n",
      "2025/07/01 16:36:29 WARNING mlflow.sklearn: Model was missing function: predict. Not logging python_function flavor!\n",
      "2025/07/01 16:36:32 WARNING mlflow.models.model: Model logged without a signature and input example. Please set `input_example` parameter when logging the model to auto infer the model signature.\n",
      "2025/07/01 16:36:32 WARNING mlflow.sklearn: Training metrics will not be recorded because training labels were not specified. To automatically record training metrics, provide training labels as inputs to the model training function.\n",
      "2025/07/01 16:36:32 WARNING mlflow.sklearn: Failed to log training dataset information to MLflow Tracking. Reason: 'Series' object has no attribute 'flatten'\n",
      "2025/07/01 16:36:41 INFO mlflow.sklearn.utils: Logging the 5 best runs, 3 runs will be omitted.\n",
      "2025/07/01 16:36:41 WARNING mlflow.sklearn: Encountered exception during creation of child runs for parameter search. Child runs may be missing. Exception: 'NoneType' object has no attribute '_to_mlflow_entity'\n",
      "2025/07/01 16:36:42 WARNING mlflow.models.model: `artifact_path` is deprecated. Please use `name` instead.\n"
     ]
    },
    {
     "name": "stdout",
     "output_type": "stream",
     "text": [
      "LogisticRegression tuned → {'C': 0.1, 'penalty': 'l2', 'solver': 'liblinear'}\n",
      "→ Accuracy: 0.884, Precision: 0.446, Recall: 0.866, F1: 0.589\n"
     ]
    },
    {
     "name": "stderr",
     "output_type": "stream",
     "text": [
      "2025/07/01 16:36:44 WARNING mlflow.models.model: Model logged without a signature and input example. Please set `input_example` parameter when logging the model to auto infer the model signature.\n",
      "2025/07/01 16:36:45 WARNING mlflow.sklearn: Failed to log training dataset information to MLflow Tracking. Reason: 'Series' object has no attribute 'flatten'\n"
     ]
    },
    {
     "name": "stdout",
     "output_type": "stream",
     "text": [
      "🏃 View run LogisticRegression at: http://localhost:8080/#/experiments/254295459546593827/runs/886c253011e54386acdcf7f275b08bf5\n",
      "🧪 View experiment at: http://localhost:8080/#/experiments/254295459546593827\n"
     ]
    },
    {
     "name": "stderr",
     "output_type": "stream",
     "text": [
      "2025/07/01 16:36:52 INFO mlflow.sklearn.utils: Logging the 5 best runs, 31 runs will be omitted.\n",
      "2025/07/01 16:36:52 WARNING mlflow.sklearn: Encountered exception during creation of child runs for parameter search. Child runs may be missing. Exception: 'NoneType' object has no attribute '_to_mlflow_entity'\n",
      "2025/07/01 16:36:53 WARNING mlflow.models.model: `artifact_path` is deprecated. Please use `name` instead.\n"
     ]
    },
    {
     "name": "stdout",
     "output_type": "stream",
     "text": [
      "DecisionTree tuned → {'max_depth': None, 'min_samples_leaf': 1, 'min_samples_split': 2}\n",
      "→ Accuracy: 0.969, Precision: 0.857, Recall: 0.806, F1: 0.831\n"
     ]
    },
    {
     "name": "stderr",
     "output_type": "stream",
     "text": [
      "2025/07/01 16:36:56 WARNING mlflow.models.model: Model logged without a signature and input example. Please set `input_example` parameter when logging the model to auto infer the model signature.\n",
      "2025/07/01 16:36:56 WARNING mlflow.sklearn: Failed to log training dataset information to MLflow Tracking. Reason: 'Series' object has no attribute 'flatten'\n"
     ]
    },
    {
     "name": "stdout",
     "output_type": "stream",
     "text": [
      "🏃 View run DecisionTree at: http://localhost:8080/#/experiments/254295459546593827/runs/cd2546c3fae54a14b12dff69506a93e3\n",
      "🧪 View experiment at: http://localhost:8080/#/experiments/254295459546593827\n"
     ]
    },
    {
     "name": "stderr",
     "output_type": "stream",
     "text": [
      "2025/07/01 16:37:05 INFO mlflow.sklearn.utils: Logging the 5 best runs, one run will be omitted.\n",
      "2025/07/01 16:37:05 WARNING mlflow.sklearn: Encountered exception during creation of child runs for parameter search. Child runs may be missing. Exception: 'NoneType' object has no attribute '_to_mlflow_entity'\n",
      "2025/07/01 16:37:05 WARNING mlflow.models.model: `artifact_path` is deprecated. Please use `name` instead.\n"
     ]
    },
    {
     "name": "stdout",
     "output_type": "stream",
     "text": [
      "RandomForest tuned → {'max_depth': None, 'n_estimators': 100}\n",
      "→ Accuracy: 0.983, Precision: 0.982, Recall: 0.836, F1: 0.903\n"
     ]
    },
    {
     "name": "stderr",
     "output_type": "stream",
     "text": [
      "2025/07/01 16:37:08 WARNING mlflow.models.model: Model logged without a signature and input example. Please set `input_example` parameter when logging the model to auto infer the model signature.\n"
     ]
    },
    {
     "name": "stdout",
     "output_type": "stream",
     "text": [
      "🏃 View run RandomForest at: http://localhost:8080/#/experiments/254295459546593827/runs/b9f9bd30d63745ac82d4e4f89f25891c\n",
      "🧪 View experiment at: http://localhost:8080/#/experiments/254295459546593827\n"
     ]
    },
    {
     "name": "stderr",
     "output_type": "stream",
     "text": [
      "2025/07/01 16:37:09 WARNING mlflow.sklearn: Failed to log training dataset information to MLflow Tracking. Reason: 'Series' object has no attribute 'flatten'\n",
      "2025/07/01 16:37:18 INFO mlflow.sklearn.utils: Logging the 5 best runs, no runs will be omitted.\n",
      "2025/07/01 16:37:18 WARNING mlflow.sklearn: Encountered exception during creation of child runs for parameter search. Child runs may be missing. Exception: 'NoneType' object has no attribute '_to_mlflow_entity'\n",
      "2025/07/01 16:37:19 WARNING mlflow.models.model: `artifact_path` is deprecated. Please use `name` instead.\n"
     ]
    },
    {
     "name": "stdout",
     "output_type": "stream",
     "text": [
      "GradientBoosting tuned → {'learning_rate': 0.1, 'n_estimators': 100}\n",
      "→ Accuracy: 0.980, Precision: 0.934, Recall: 0.851, F1: 0.891\n"
     ]
    },
    {
     "name": "stderr",
     "output_type": "stream",
     "text": [
      "2025/07/01 16:37:22 WARNING mlflow.models.model: Model logged without a signature and input example. Please set `input_example` parameter when logging the model to auto infer the model signature.\n",
      "2025/07/01 16:37:22 WARNING mlflow.sklearn: Failed to log training dataset information to MLflow Tracking. Reason: 'Series' object has no attribute 'flatten'\n"
     ]
    },
    {
     "name": "stdout",
     "output_type": "stream",
     "text": [
      "🏃 View run GradientBoosting at: http://localhost:8080/#/experiments/254295459546593827/runs/f3f78b8fbb18400ab9a0bdb7e9c435e8\n",
      "🧪 View experiment at: http://localhost:8080/#/experiments/254295459546593827\n"
     ]
    },
    {
     "name": "stderr",
     "output_type": "stream",
     "text": [
      "2025/07/01 16:37:29 INFO mlflow.sklearn.utils: Logging the 5 best runs, no runs will be omitted.\n",
      "2025/07/01 16:37:29 WARNING mlflow.sklearn: Encountered exception during creation of child runs for parameter search. Child runs may be missing. Exception: 'NoneType' object has no attribute '_to_mlflow_entity'\n",
      "2025/07/01 16:37:29 WARNING mlflow.models.model: `artifact_path` is deprecated. Please use `name` instead.\n"
     ]
    },
    {
     "name": "stdout",
     "output_type": "stream",
     "text": [
      "KNN tuned → {'n_neighbors': 3}\n",
      "→ Accuracy: 0.971, Precision: 0.873, Recall: 0.821, F1: 0.846\n"
     ]
    },
    {
     "name": "stderr",
     "output_type": "stream",
     "text": [
      "2025/07/01 16:37:32 WARNING mlflow.models.model: Model logged without a signature and input example. Please set `input_example` parameter when logging the model to auto infer the model signature.\n",
      "2025/07/01 16:37:33 WARNING mlflow.sklearn: Failed to log training dataset information to MLflow Tracking. Reason: 'Series' object has no attribute 'flatten'\n"
     ]
    },
    {
     "name": "stdout",
     "output_type": "stream",
     "text": [
      "🏃 View run KNN at: http://localhost:8080/#/experiments/254295459546593827/runs/d2f52b7f83ff440ba1a372332e6850a1\n",
      "🧪 View experiment at: http://localhost:8080/#/experiments/254295459546593827\n"
     ]
    },
    {
     "name": "stderr",
     "output_type": "stream",
     "text": [
      "2025/07/01 16:37:46 INFO mlflow.sklearn.utils: Logging the 5 best runs, one run will be omitted.\n",
      "2025/07/01 16:37:46 WARNING mlflow.sklearn: Encountered exception during creation of child runs for parameter search. Child runs may be missing. Exception: 'NoneType' object has no attribute '_to_mlflow_entity'\n",
      "2025/07/01 16:37:46 WARNING mlflow.models.model: `artifact_path` is deprecated. Please use `name` instead.\n"
     ]
    },
    {
     "name": "stdout",
     "output_type": "stream",
     "text": [
      "SVM tuned → {'C': 10, 'kernel': 'rbf'}\n",
      "→ Accuracy: 0.977, Precision: 0.918, Recall: 0.836, F1: 0.875\n"
     ]
    },
    {
     "name": "stderr",
     "output_type": "stream",
     "text": [
      "2025/07/01 16:37:49 WARNING mlflow.models.model: Model logged without a signature and input example. Please set `input_example` parameter when logging the model to auto infer the model signature.\n"
     ]
    },
    {
     "name": "stdout",
     "output_type": "stream",
     "text": [
      "🏃 View run SVM at: http://localhost:8080/#/experiments/254295459546593827/runs/ceedd82863f844c09ebb3166001967a9\n",
      "🧪 View experiment at: http://localhost:8080/#/experiments/254295459546593827\n",
      "\n",
      "🏆 Registering best model: RandomForest with F1 = 0.903\n"
     ]
    },
    {
     "name": "stderr",
     "output_type": "stream",
     "text": [
      "Successfully registered model 'BankLoanBestModel'.\n",
      "2025/07/01 16:37:50 WARNING mlflow.tracking._model_registry.fluent: Run with id b9f9bd30d63745ac82d4e4f89f25891c has no artifacts at artifact path 'model', registering model based on models:/m-a32249315d874ac2946a36c76be0dd07 instead\n",
      "2025/07/01 16:37:50 INFO mlflow.store.model_registry.abstract_store: Waiting up to 300 seconds for model version to finish creation. Model name: BankLoanBestModel, version 1\n",
      "Created version '1' of model 'BankLoanBestModel'.\n"
     ]
    },
    {
     "name": "stdout",
     "output_type": "stream",
     "text": [
      "✅ Registered model: BankLoanBestModel, version: 1\n",
      "🏃 View run Preprocessing and Tuning at: http://localhost:8080/#/experiments/254295459546593827/runs/77de59b6050744c1b03e91fbb01adf7e\n",
      "🧪 View experiment at: http://localhost:8080/#/experiments/254295459546593827\n"
     ]
    }
   ],
   "source": [
    "if __name__=='__main__':\n",
    "    main()"
   ]
  }
 ],
 "metadata": {
  "kernelspec": {
   "display_name": "myenv",
   "language": "python",
   "name": "python3"
  },
  "language_info": {
   "codemirror_mode": {
    "name": "ipython",
    "version": 3
   },
   "file_extension": ".py",
   "mimetype": "text/x-python",
   "name": "python",
   "nbconvert_exporter": "python",
   "pygments_lexer": "ipython3",
   "version": "3.11.9"
  }
 },
 "nbformat": 4,
 "nbformat_minor": 5
}
