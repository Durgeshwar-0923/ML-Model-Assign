{
 "cells": [
  {
   "cell_type": "code",
   "execution_count": 11,
   "id": "b1b44211",
   "metadata": {},
   "outputs": [],
   "source": [
    "import os\n",
    "import kagglehub\n",
    "import pandas as pd\n",
    "import joblib\n",
    "\n",
    "from sklearn.preprocessing import PowerTransformer, RobustScaler, StandardScaler\n",
    "from sklearn.model_selection import train_test_split, GridSearchCV\n",
    "from sklearn.feature_selection import RFE\n",
    "from sklearn.linear_model import LogisticRegression\n",
    "from sklearn.tree import DecisionTreeClassifier\n",
    "from sklearn.ensemble import RandomForestClassifier, GradientBoostingClassifier\n",
    "from sklearn.neighbors import KNeighborsClassifier\n",
    "from sklearn.svm import SVC\n",
    "\n",
    "from imblearn.over_sampling import SMOTE"
   ]
  },
  {
   "cell_type": "code",
   "execution_count": 12,
   "id": "16dcc231",
   "metadata": {},
   "outputs": [
    {
     "name": "stderr",
     "output_type": "stream",
     "text": [
      "2025/07/01 15:12:03 INFO mlflow.tracking.fluent: Experiment with name 'Model Comparisions' does not exist. Creating a new experiment.\n"
     ]
    },
    {
     "data": {
      "text/plain": [
       "<Experiment: artifact_location='mlflow-artifacts:/896692842864941115', creation_time=1751362923416, experiment_id='896692842864941115', last_update_time=1751362923416, lifecycle_stage='active', name='Model Comparisions', tags={}>"
      ]
     },
     "execution_count": 12,
     "metadata": {},
     "output_type": "execute_result"
    }
   ],
   "source": [
    "import mlflow\n",
    "mlflow.set_tracking_uri(\"http://localhost:8080\")\n",
    "mlflow.set_experiment(\"Model Comparisions\")"
   ]
  },
  {
   "cell_type": "code",
   "execution_count": 13,
   "id": "a29dcae6",
   "metadata": {},
   "outputs": [],
   "source": [
    "\n",
    "# Save dir\n",
    "import os\n",
    "SAVEDIR = os.getenv('ARTIFACT_DIR', '.') + '/saved_models'\n",
    "os.makedirs(SAVEDIR, exist_ok=True)\n",
    "\n",
    "def load_data():\n",
    "    path = kagglehub.dataset_download(\"itsmesunil/bank-loan-modelling\")\n",
    "    df = pd.read_excel(\n",
    "        os.path.join(path, \"Bank_Personal_Loan_Modelling.xlsx\"),\n",
    "        sheet_name='Data'\n",
    "    )\n",
    "    # DROP via keyword axis=\n",
    "    return df.drop(['ID', 'ZIP Code'], axis=1)\n"
   ]
  },
  {
   "cell_type": "code",
   "execution_count": 14,
   "id": "12f970bd",
   "metadata": {},
   "outputs": [],
   "source": [
    "\n",
    "def split_data(df):\n",
    "    X = df.drop('Personal Loan', axis=1)\n",
    "    y = df['Personal Loan']\n",
    "    X0, X_test, y0, y_test = train_test_split(\n",
    "        X, y, test_size=0.3, stratify=y, random_state=42\n",
    "    )\n",
    "    X_train, X_val, y_train, y_val = train_test_split(\n",
    "        X0, y0, test_size=0.2, stratify=y0, random_state=42\n",
    "    )\n",
    "    return X_train, X_val, X_test, y_train, y_val, y_test\n"
   ]
  },
  {
   "cell_type": "code",
   "execution_count": 15,
   "id": "98a6e94d",
   "metadata": {},
   "outputs": [],
   "source": [
    "\n",
    "def preprocess_fit(X_train, X_val, X_test):\n",
    "    rb = ['CCAvg','Mortgage']\n",
    "    st = ['Income','Experience','Age']\n",
    "    pt = PowerTransformer('yeo-johnson')\n",
    "    rs = RobustScaler()\n",
    "    ss = StandardScaler()\n",
    "\n",
    "    # fit & transform train\n",
    "    X_train[rb] = rs.fit_transform(pt.fit_transform(X_train[rb]))\n",
    "    X_train[st] = ss.fit_transform(X_train[st])\n",
    "\n",
    "    # transform val/test\n",
    "    for X in (X_val, X_test):\n",
    "        X[rb] = rs.transform(pt.transform(X[rb]))\n",
    "        X[st] = ss.transform(X[st])\n",
    "\n",
    "    # save transformers\n",
    "    joblib.dump(pt, os.path.join(SAVEDIR, 'pt.pkl'))\n",
    "    joblib.dump(rs, os.path.join(SAVEDIR, 'rs.pkl'))\n",
    "    joblib.dump(ss, os.path.join(SAVEDIR, 'ss.pkl'))\n",
    "\n",
    "    return X_train, X_val, X_test\n"
   ]
  },
  {
   "cell_type": "code",
   "execution_count": 16,
   "id": "29152002",
   "metadata": {},
   "outputs": [],
   "source": [
    "\n",
    "def feature_select_fit(X_train, y_train, X_val, X_test):\n",
    "    selector = RFE(LogisticRegression(max_iter=1000), n_features_to_select=8)\n",
    "    Xtr = selector.fit_transform(X_train, y_train)\n",
    "    Xv  = selector.transform(X_val)\n",
    "    Xt  = selector.transform(X_test)\n",
    "    joblib.dump(selector, os.path.join(SAVEDIR, 'selector.pkl'))\n",
    "    return Xtr, Xv, Xt\n"
   ]
  },
  {
   "cell_type": "code",
   "execution_count": 17,
   "id": "a7206763",
   "metadata": {},
   "outputs": [],
   "source": [
    "\n",
    "def balance(X, y):\n",
    "    sm = SMOTE(random_state=42)\n",
    "    return sm.fit_resample(X, y)\n"
   ]
  },
  {
   "cell_type": "code",
   "execution_count": 18,
   "id": "afa342c9",
   "metadata": {},
   "outputs": [],
   "source": [
    "from sklearn.metrics import accuracy_score, precision_score, recall_score, f1_score\n",
    "\n",
    "def tune_and_save(X, y, X_val, y_val):\n",
    "    mlflow.set_experiment(\"Bank Loan Classification\")\n",
    "\n",
    "    grids = {\n",
    "        'LogisticRegression': {\n",
    "            'model': LogisticRegression(max_iter=1000),\n",
    "            'params': {'C':[0.01,0.1,1,10], 'penalty':['l1','l2'], 'solver':['liblinear']}\n",
    "        },\n",
    "        'DecisionTree': {\n",
    "            'model': DecisionTreeClassifier(),\n",
    "            'params': {'max_depth':[3,5,7,None], 'min_samples_split':[2,5,10], 'min_samples_leaf':[1,2,4]}\n",
    "        },\n",
    "        'RandomForest': {\n",
    "            'model': RandomForestClassifier(random_state=42),\n",
    "            'params': {'n_estimators':[50,100], 'max_depth':[5,10,None]}\n",
    "        },\n",
    "        'GradientBoosting': {\n",
    "            'model': GradientBoostingClassifier(random_state=42),\n",
    "            'params': {'n_estimators':[50,100], 'learning_rate':[0.01,0.1]}\n",
    "        },\n",
    "        'KNN': {\n",
    "            'model': KNeighborsClassifier(),\n",
    "            'params': {'n_neighbors':[3,5,7]}\n",
    "        },\n",
    "        'SVM': {\n",
    "            'model': SVC(probability=True, random_state=42),\n",
    "            'params': {'C':[0.1,1,10], 'kernel':['linear','rbf']}\n",
    "        }\n",
    "    }\n",
    "\n",
    "    for name, cfg in grids.items():\n",
    "        with mlflow.start_run(run_name=name, nested=True):\n",
    "            mlflow.sklearn.autolog()\n",
    "\n",
    "            gs = GridSearchCV(cfg['model'], cfg['params'], scoring='f1', cv=5, n_jobs=-1)\n",
    "            gs.fit(X, y)\n",
    "            best_model = gs.best_estimator_\n",
    "\n",
    "            # Save model\n",
    "            model_path = os.path.join(SAVEDIR, f\"{name}_model.pkl\")\n",
    "            joblib.dump(best_model, model_path)\n",
    "            mlflow.sklearn.log_model(best_model, artifact_path=name + \"_model\")\n",
    "\n",
    "            # Predict on validation set\n",
    "            preds = best_model.predict(X_val)\n",
    "\n",
    "            # Compute metrics\n",
    "            acc = accuracy_score(y_val, preds)\n",
    "            prec = precision_score(y_val, preds)\n",
    "            rec = recall_score(y_val, preds)\n",
    "            f1 = f1_score(y_val, preds)\n",
    "\n",
    "            # Log metrics to MLflow\n",
    "            mlflow.log_metrics({\n",
    "                \"val_accuracy\": acc,\n",
    "                \"val_precision\": prec,\n",
    "                \"val_recall\": rec,\n",
    "                \"val_f1\": f1\n",
    "            })\n",
    "\n",
    "            print(f\"{name} tuned → {gs.best_params_}\")\n",
    "            print(f\"→ Accuracy: {acc:.3f}, Precision: {prec:.3f}, Recall: {rec:.3f}, F1: {f1:.3f}\")\n"
   ]
  },
  {
   "cell_type": "code",
   "execution_count": 19,
   "id": "b159f02d",
   "metadata": {},
   "outputs": [],
   "source": [
    "def main():\n",
    "    mlflow.set_experiment(\"Bank Loan Classification\")\n",
    "\n",
    "    with mlflow.start_run(run_name=\"Preprocessing and Tuning\"):\n",
    "        df = load_data()\n",
    "        Xtr, Xv, Xt, ytr, yv, yt = split_data(df)\n",
    "        Xtr, Xv, Xt = preprocess_fit(Xtr, Xv, Xt)\n",
    "        Xtf, Xvf, Xsf = feature_select_fit(Xtr, ytr, Xv, Xt)\n",
    "\n",
    "        # Log preprocessing artifacts\n",
    "        for file in ['pt.pkl', 'rs.pkl', 'ss.pkl', 'selector.pkl']:\n",
    "            mlflow.log_artifact(os.path.join(SAVEDIR, file))\n",
    "\n",
    "        Xb, yb = balance(Xtf, ytr)\n",
    "        tune_and_save(Xb, yb, Xvf, yv)\n"
   ]
  },
  {
   "cell_type": "code",
   "execution_count": 20,
   "id": "0266f74d",
   "metadata": {},
   "outputs": [
    {
     "name": "stderr",
     "output_type": "stream",
     "text": [
      "2025/07/01 15:12:03 INFO mlflow.tracking.fluent: Experiment with name 'Bank Loan Classification' does not exist. Creating a new experiment.\n",
      "2025/07/01 15:12:10 WARNING mlflow.sklearn: Failed to log training dataset information to MLflow Tracking. Reason: 'Series' object has no attribute 'flatten'\n",
      "2025/07/01 15:12:25 INFO mlflow.sklearn.utils: Logging the 5 best runs, 3 runs will be omitted.\n",
      "2025/07/01 15:12:25 WARNING mlflow.sklearn: Encountered exception during creation of child runs for parameter search. Child runs may be missing. Exception: 'NoneType' object has no attribute '_to_mlflow_entity'\n",
      "2025/07/01 15:12:25 WARNING mlflow.models.model: `artifact_path` is deprecated. Please use `name` instead.\n",
      "2025/07/01 15:12:28 WARNING mlflow.models.model: Model logged without a signature and input example. Please set `input_example` parameter when logging the model to auto infer the model signature.\n"
     ]
    },
    {
     "name": "stdout",
     "output_type": "stream",
     "text": [
      "LogisticRegression tuned → {'C': 0.1, 'penalty': 'l2', 'solver': 'liblinear'}\n",
      "→ Accuracy: 0.884, Precision: 0.446, Recall: 0.866, F1: 0.589\n",
      "🏃 View run LogisticRegression at: http://localhost:8080/#/experiments/480529433569303561/runs/cd8b478943d94c7a96483940b4a72f3e\n",
      "🧪 View experiment at: http://localhost:8080/#/experiments/480529433569303561\n"
     ]
    },
    {
     "name": "stderr",
     "output_type": "stream",
     "text": [
      "2025/07/01 15:12:29 WARNING mlflow.sklearn: Failed to log training dataset information to MLflow Tracking. Reason: 'Series' object has no attribute 'flatten'\n",
      "2025/07/01 15:12:38 INFO mlflow.sklearn.utils: Logging the 5 best runs, 31 runs will be omitted.\n",
      "2025/07/01 15:12:38 WARNING mlflow.sklearn: Encountered exception during creation of child runs for parameter search. Child runs may be missing. Exception: 'NoneType' object has no attribute '_to_mlflow_entity'\n",
      "2025/07/01 15:12:38 WARNING mlflow.models.model: `artifact_path` is deprecated. Please use `name` instead.\n",
      "2025/07/01 15:12:41 WARNING mlflow.models.model: Model logged without a signature and input example. Please set `input_example` parameter when logging the model to auto infer the model signature.\n"
     ]
    },
    {
     "name": "stdout",
     "output_type": "stream",
     "text": [
      "DecisionTree tuned → {'max_depth': None, 'min_samples_leaf': 1, 'min_samples_split': 2}\n",
      "→ Accuracy: 0.976, Precision: 0.903, Recall: 0.836, F1: 0.868\n",
      "🏃 View run DecisionTree at: http://localhost:8080/#/experiments/480529433569303561/runs/f2f8a904a6f34988b3cf75166cddc6a4\n",
      "🧪 View experiment at: http://localhost:8080/#/experiments/480529433569303561\n"
     ]
    },
    {
     "name": "stderr",
     "output_type": "stream",
     "text": [
      "2025/07/01 15:12:42 WARNING mlflow.sklearn: Failed to log training dataset information to MLflow Tracking. Reason: 'Series' object has no attribute 'flatten'\n",
      "2025/07/01 15:12:51 INFO mlflow.sklearn.utils: Logging the 5 best runs, one run will be omitted.\n",
      "2025/07/01 15:12:51 WARNING mlflow.sklearn: Encountered exception during creation of child runs for parameter search. Child runs may be missing. Exception: 'NoneType' object has no attribute '_to_mlflow_entity'\n",
      "2025/07/01 15:12:52 WARNING mlflow.models.model: `artifact_path` is deprecated. Please use `name` instead.\n",
      "2025/07/01 15:12:55 WARNING mlflow.models.model: Model logged without a signature and input example. Please set `input_example` parameter when logging the model to auto infer the model signature.\n"
     ]
    },
    {
     "name": "stdout",
     "output_type": "stream",
     "text": [
      "RandomForest tuned → {'max_depth': None, 'n_estimators': 100}\n",
      "→ Accuracy: 0.983, Precision: 0.982, Recall: 0.836, F1: 0.903\n",
      "🏃 View run RandomForest at: http://localhost:8080/#/experiments/480529433569303561/runs/118ea6ce085145cfb325957ae38d438c\n",
      "🧪 View experiment at: http://localhost:8080/#/experiments/480529433569303561\n"
     ]
    },
    {
     "name": "stderr",
     "output_type": "stream",
     "text": [
      "2025/07/01 15:12:55 WARNING mlflow.sklearn: Failed to log training dataset information to MLflow Tracking. Reason: 'Series' object has no attribute 'flatten'\n",
      "2025/07/01 15:13:05 INFO mlflow.sklearn.utils: Logging the 5 best runs, no runs will be omitted.\n",
      "2025/07/01 15:13:05 WARNING mlflow.sklearn: Encountered exception during creation of child runs for parameter search. Child runs may be missing. Exception: 'NoneType' object has no attribute '_to_mlflow_entity'\n",
      "2025/07/01 15:13:06 WARNING mlflow.models.model: `artifact_path` is deprecated. Please use `name` instead.\n",
      "2025/07/01 15:13:09 WARNING mlflow.models.model: Model logged without a signature and input example. Please set `input_example` parameter when logging the model to auto infer the model signature.\n"
     ]
    },
    {
     "name": "stdout",
     "output_type": "stream",
     "text": [
      "GradientBoosting tuned → {'learning_rate': 0.1, 'n_estimators': 100}\n",
      "→ Accuracy: 0.980, Precision: 0.934, Recall: 0.851, F1: 0.891\n",
      "🏃 View run GradientBoosting at: http://localhost:8080/#/experiments/480529433569303561/runs/e2566eb41aa847918813884eb028a1dc\n",
      "🧪 View experiment at: http://localhost:8080/#/experiments/480529433569303561\n"
     ]
    },
    {
     "name": "stderr",
     "output_type": "stream",
     "text": [
      "2025/07/01 15:13:10 WARNING mlflow.sklearn: Failed to log training dataset information to MLflow Tracking. Reason: 'Series' object has no attribute 'flatten'\n",
      "2025/07/01 15:13:18 INFO mlflow.sklearn.utils: Logging the 5 best runs, no runs will be omitted.\n",
      "2025/07/01 15:13:18 WARNING mlflow.sklearn: Encountered exception during creation of child runs for parameter search. Child runs may be missing. Exception: 'NoneType' object has no attribute '_to_mlflow_entity'\n",
      "2025/07/01 15:13:18 WARNING mlflow.models.model: `artifact_path` is deprecated. Please use `name` instead.\n",
      "2025/07/01 15:13:21 WARNING mlflow.models.model: Model logged without a signature and input example. Please set `input_example` parameter when logging the model to auto infer the model signature.\n"
     ]
    },
    {
     "name": "stdout",
     "output_type": "stream",
     "text": [
      "KNN tuned → {'n_neighbors': 3}\n",
      "→ Accuracy: 0.971, Precision: 0.873, Recall: 0.821, F1: 0.846\n",
      "🏃 View run KNN at: http://localhost:8080/#/experiments/480529433569303561/runs/44479292bc2c42f58fde217d61997457\n",
      "🧪 View experiment at: http://localhost:8080/#/experiments/480529433569303561\n"
     ]
    },
    {
     "name": "stderr",
     "output_type": "stream",
     "text": [
      "2025/07/01 15:13:22 WARNING mlflow.sklearn: Failed to log training dataset information to MLflow Tracking. Reason: 'Series' object has no attribute 'flatten'\n",
      "2025/07/01 15:13:36 INFO mlflow.sklearn.utils: Logging the 5 best runs, one run will be omitted.\n",
      "2025/07/01 15:13:36 WARNING mlflow.sklearn: Encountered exception during creation of child runs for parameter search. Child runs may be missing. Exception: 'NoneType' object has no attribute '_to_mlflow_entity'\n",
      "2025/07/01 15:13:37 WARNING mlflow.models.model: `artifact_path` is deprecated. Please use `name` instead.\n",
      "2025/07/01 15:13:40 WARNING mlflow.models.model: Model logged without a signature and input example. Please set `input_example` parameter when logging the model to auto infer the model signature.\n"
     ]
    },
    {
     "name": "stdout",
     "output_type": "stream",
     "text": [
      "SVM tuned → {'C': 10, 'kernel': 'rbf'}\n",
      "→ Accuracy: 0.977, Precision: 0.918, Recall: 0.836, F1: 0.875\n",
      "🏃 View run SVM at: http://localhost:8080/#/experiments/480529433569303561/runs/dc4d3931be524030aab1f7fab97a862f\n",
      "🧪 View experiment at: http://localhost:8080/#/experiments/480529433569303561\n",
      "🏃 View run Preprocessing and Tuning at: http://localhost:8080/#/experiments/480529433569303561/runs/407de987c017453dab80db685e48288c\n",
      "🧪 View experiment at: http://localhost:8080/#/experiments/480529433569303561\n"
     ]
    }
   ],
   "source": [
    "if __name__=='__main__':\n",
    "    main()"
   ]
  }
 ],
 "metadata": {
  "kernelspec": {
   "display_name": "myenv",
   "language": "python",
   "name": "python3"
  },
  "language_info": {
   "codemirror_mode": {
    "name": "ipython",
    "version": 3
   },
   "file_extension": ".py",
   "mimetype": "text/x-python",
   "name": "python",
   "nbconvert_exporter": "python",
   "pygments_lexer": "ipython3",
   "version": "3.11.9"
  }
 },
 "nbformat": 4,
 "nbformat_minor": 5
}
